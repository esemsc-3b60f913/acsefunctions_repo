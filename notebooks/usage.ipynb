{
 "cells": [
  {
   "cell_type": "code",
   "execution_count": null,
   "id": "e18b16b5",
   "metadata": {},
   "outputs": [],
   "source": [
    "import numpy as np\n",
    "from acsefunctions import exp, sinh, gamma, bessel\n",
    "\n",
    "x = np.linspace(-2, 2, 100)\n",
    "print(exp(x))       # Exponential\n",
    "print(sinh(x))      # Hyperbolic sine\n",
    "print(gamma(0.5))   # ~sqrt(pi)\n",
    "print(bessel(0, x)) # Bessel J_0(x)"
   ]
  }
 ],
 "metadata": {
  "kernelspec": {
   "display_name": "mps_env",
   "language": "python",
   "name": "python3"
  },
  "language_info": {
   "name": "python",
   "version": "3.10.15"
  }
 },
 "nbformat": 4,
 "nbformat_minor": 5
}
