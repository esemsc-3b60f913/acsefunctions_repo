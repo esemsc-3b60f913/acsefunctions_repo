{
 "cells": [
  {
   "cell_type": "code",
   "execution_count": 1,
   "id": "c33495c1",
   "metadata": {},
   "outputs": [
    {
     "name": "stdout",
     "output_type": "stream",
     "text": [
      "  Function  acse_time   np_time  max_error\n",
      "0      exp    0.19008  0.000469  76.086945\n"
     ]
    }
   ],
   "source": [
    "import timeit\n",
    "import numpy as np\n",
    "import pandas as pd\n",
    "from acsefunctions import exp\n",
    "x = np.linspace(-10, 10, 1000)\n",
    "t_acse = timeit.timeit(lambda: exp(x), number=100)\n",
    "t_np = timeit.timeit(lambda: np.exp(x), number=100)\n",
    "error = np.max(np.abs(exp(x) - np.exp(x)))\n",
    "results = pd.DataFrame({'Function': ['exp'], 'acse_time': [t_acse], 'np_time': [t_np], 'max_error': [error]})\n",
    "print(results)"
   ]
  }
 ],
 "metadata": {
  "kernelspec": {
   "display_name": "mps_env",
   "language": "python",
   "name": "python3"
  },
  "language_info": {
   "codemirror_mode": {
    "name": "ipython",
    "version": 3
   },
   "file_extension": ".py",
   "mimetype": "text/x-python",
   "name": "python",
   "nbconvert_exporter": "python",
   "pygments_lexer": "ipython3",
   "version": "3.10.15"
  }
 },
 "nbformat": 4,
 "nbformat_minor": 5
}
