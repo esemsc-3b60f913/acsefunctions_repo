{
 "cells": [
  {
   "cell_type": "code",
   "execution_count": 2,
   "id": "c33495c1",
   "metadata": {},
   "outputs": [
    {
     "name": "stderr",
     "output_type": "stream",
     "text": [
      "/Users/apple/Library/Mobile Documents/com~apple~CloudDocs/Studium/Imperial/acsefunctions_repo/acsefunctions/utils.py:10: RuntimeWarning: overflow encountered in scalar multiply\n",
      "  term *= power_func(n) / fact_func(n)\n",
      "/Users/apple/Library/Mobile Documents/com~apple~CloudDocs/Studium/Imperial/acsefunctions_repo/acsefunctions/utils.py:11: RuntimeWarning: invalid value encountered in scalar add\n",
      "  total += term\n",
      "/Users/apple/anaconda3/envs/mps_env/lib/python3.10/site-packages/numpy/lib/function_base.py:2455: RuntimeWarning: overflow encountered in exp_scalar (vectorized)\n",
      "  outputs = ufunc(*inputs)\n",
      "/Users/apple/anaconda3/envs/mps_env/lib/python3.10/site-packages/numpy/lib/function_base.py:2455: RuntimeWarning: invalid value encountered in exp_scalar (vectorized)\n",
      "  outputs = ufunc(*inputs)\n"
     ]
    },
    {
     "name": "stdout",
     "output_type": "stream",
     "text": [
      "  Function  acse_time   np_time  max_error\n",
      "0      exp   1.050535  0.001488        NaN\n"
     ]
    }
   ],
   "source": [
    "import timeit\n",
    "import numpy as np\n",
    "import pandas as pd\n",
    "from acsefunctions import exp\n",
    "x = np.linspace(-10, 10, 1000)\n",
    "t_acse = timeit.timeit(lambda: exp(x), number=100)\n",
    "t_np = timeit.timeit(lambda: np.exp(x), number=100)\n",
    "error = np.max(np.abs(exp(x) - np.exp(x)))\n",
    "results = pd.DataFrame({'Function': ['exp'], 'acse_time': [t_acse], 'np_time': [t_np], 'max_error': [error]})\n",
    "print(results)"
   ]
  }
 ],
 "metadata": {
  "kernelspec": {
   "display_name": "mps_env",
   "language": "python",
   "name": "python3"
  },
  "language_info": {
   "codemirror_mode": {
    "name": "ipython",
    "version": 3
   },
   "file_extension": ".py",
   "mimetype": "text/x-python",
   "name": "python",
   "nbconvert_exporter": "python",
   "pygments_lexer": "ipython3",
   "version": "3.10.15"
  }
 },
 "nbformat": 4,
 "nbformat_minor": 5
}
